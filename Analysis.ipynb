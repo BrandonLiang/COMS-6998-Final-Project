{
 "cells": [
  {
   "cell_type": "code",
   "execution_count": 1,
   "metadata": {
    "id": "58ohUaLSPaJE"
   },
   "outputs": [],
   "source": [
    "import numpy as np\n",
    "import pandas as pd\n",
    "import quandl\n",
    "import ta\n",
    "import finta\n",
    "import os\n",
    "import pathlib\n",
    "import shutil\n",
    "from sklearn.preprocessing import MinMaxScaler\n",
    "from matplotlib import pyplot as plt\n",
    "from PIL import Image\n",
    "import time\n",
    "import torch\n",
    "import copy"
   ]
  },
  {
   "cell_type": "code",
   "execution_count": 3,
   "metadata": {},
   "outputs": [],
   "source": [
    "import zipfile\n",
    "with zipfile.ZipFile(\"predictions/inception_2_0.zip\", 'r') as zip_ref:\n",
    "    zip_ref.extractall(\"predictions/inception_2_0\")"
   ]
  },
  {
   "cell_type": "code",
   "execution_count": 4,
   "metadata": {
    "id": "JMiJMvrKPaJP"
   },
   "outputs": [],
   "source": [
    "equity_list = ['MMM','AXP','AAPL','BA','CAT','CVX','CSCO','KO','DIS','XOM','GE','GS','HD','IBM','INTC','JNJ','JPM','MCD','MRK','MSFT','NKE','PFE','PG','TRV','UTX','UNH','VZ','WMT']\n",
    "# equity_list = ['MMM','AXP','AAPL','BA']  # Short version for debugging\n",
    "# equity_list = ['AXP','AAPL','BA','CVX','DIS','GS','HD'] # for comparison\n",
    "# feature_list = ['RSI','Williams','WMA','EMA','SMA','HMA','3EMA','CCI','CMO','MACD','PPO','ROC','CMFI','DMI','PSI']"
   ]
  },
  {
   "cell_type": "code",
   "execution_count": 5,
   "metadata": {
    "id": "PDlyjHZLPaJP"
   },
   "outputs": [],
   "source": [
    "def get_eq_dict(eq_list):\n",
    "    equities_dfs = {}\n",
    "    for equity in eq_list:\n",
    "        print(equity)\n",
    "        output_df = pd.DataFrame()\n",
    "        temp_df = quandl.get(\"EOD/\"+equity, authtoken=\"6y4QKxqZxio2nBP3VSwZ\")\n",
    "        date_range_df = temp_df.loc['2001-11-01':'2018-01-01']\n",
    "        data_range_df_finta = date_range_df.copy() \n",
    "        data_range_df_finta.columns = data_range_df_finta.columns.str.lower()\n",
    "        output_df['RSI'] = ta.momentum.rsi(date_range_df['Close'])\n",
    "        output_df['Williams'] = ta.momentum.williams_r(date_range_df['High'],date_range_df['Low'],date_range_df['Close'])\n",
    "        output_df['WMA'] = ta.trend.wma_indicator(date_range_df['Close'])\n",
    "        output_df['EMA'] = ta.trend.ema_indicator(date_range_df['Close'])\n",
    "        output_df['SMA'] = ta.trend.sma_indicator(date_range_df['Close'])\n",
    "        output_df['HMA'] =  finta.TA.HMA(data_range_df_finta[['open','high','low','close']])\n",
    "        output_df['3EMA'] = ta.trend.trix(date_range_df['Close'])  #Tripple EMA\n",
    "        output_df['CCI'] = ta.trend.cci(date_range_df['High'],date_range_df['Low'],date_range_df['Close'])  \n",
    "        output_df['CMO'] =  finta.TA.CMO(data_range_df_finta[['open','high','low','close']])\n",
    "        output_df['MACD'] = ta.trend.macd(date_range_df['Close'])  \n",
    "        output_df['PPO'] = ta.momentum.PercentagePriceOscillator(date_range_df['Close']).ppo()\n",
    "        output_df['ROC'] = ta.momentum.ROCIndicator(date_range_df['Close']).roc()\n",
    "        output_df['CMFI'] = ta.volume.ChaikinMoneyFlowIndicator(date_range_df['High'],date_range_df['Low'],date_range_df['Close'], date_range_df['Volume']).chaikin_money_flow()\n",
    "        output_df['DMI'] =  ta.trend.ADXIndicator(date_range_df['High'],date_range_df['Low'],date_range_df['Close']).adx() # ADX is average direction movement index\n",
    "        output_df['PSI'] = ta.trend.PSARIndicator(date_range_df['High'],date_range_df['Low'],date_range_df['Close']).psar()\n",
    "        output_df['Close'] = date_range_df['Close']\n",
    "        output_df['Label'] = 'hold'\n",
    "        output_df = output_df.reset_index()\n",
    "        equities_dfs[equity] = output_df\n",
    "    return equities_dfs"
   ]
  },
  {
   "cell_type": "code",
   "execution_count": 6,
   "metadata": {
    "id": "-Ts66lUhPaJQ",
    "outputId": "13ec3b1c-0e17-41e3-aa26-27888b2aa52b",
    "scrolled": true
   },
   "outputs": [
    {
     "name": "stdout",
     "output_type": "stream",
     "text": [
      "MMM\n"
     ]
    },
    {
     "name": "stderr",
     "output_type": "stream",
     "text": [
      "/opt/conda/lib/python3.7/site-packages/ta/trend.py:768: RuntimeWarning: invalid value encountered in double_scalars\n",
      "  dip[i] = 100 * (self._dip[i] / self._trs[i])\n",
      "/opt/conda/lib/python3.7/site-packages/ta/trend.py:772: RuntimeWarning: invalid value encountered in double_scalars\n",
      "  din[i] = 100 * (self._din[i] / self._trs[i])\n"
     ]
    },
    {
     "name": "stdout",
     "output_type": "stream",
     "text": [
      "AXP\n"
     ]
    },
    {
     "name": "stderr",
     "output_type": "stream",
     "text": [
      "/opt/conda/lib/python3.7/site-packages/ta/trend.py:768: RuntimeWarning: invalid value encountered in double_scalars\n",
      "  dip[i] = 100 * (self._dip[i] / self._trs[i])\n",
      "/opt/conda/lib/python3.7/site-packages/ta/trend.py:772: RuntimeWarning: invalid value encountered in double_scalars\n",
      "  din[i] = 100 * (self._din[i] / self._trs[i])\n"
     ]
    },
    {
     "name": "stdout",
     "output_type": "stream",
     "text": [
      "AAPL\n"
     ]
    },
    {
     "name": "stderr",
     "output_type": "stream",
     "text": [
      "/opt/conda/lib/python3.7/site-packages/ta/trend.py:768: RuntimeWarning: invalid value encountered in double_scalars\n",
      "  dip[i] = 100 * (self._dip[i] / self._trs[i])\n",
      "/opt/conda/lib/python3.7/site-packages/ta/trend.py:772: RuntimeWarning: invalid value encountered in double_scalars\n",
      "  din[i] = 100 * (self._din[i] / self._trs[i])\n"
     ]
    },
    {
     "name": "stdout",
     "output_type": "stream",
     "text": [
      "BA\n"
     ]
    },
    {
     "name": "stderr",
     "output_type": "stream",
     "text": [
      "/opt/conda/lib/python3.7/site-packages/ta/trend.py:768: RuntimeWarning: invalid value encountered in double_scalars\n",
      "  dip[i] = 100 * (self._dip[i] / self._trs[i])\n",
      "/opt/conda/lib/python3.7/site-packages/ta/trend.py:772: RuntimeWarning: invalid value encountered in double_scalars\n",
      "  din[i] = 100 * (self._din[i] / self._trs[i])\n"
     ]
    },
    {
     "name": "stdout",
     "output_type": "stream",
     "text": [
      "CAT\n"
     ]
    },
    {
     "name": "stderr",
     "output_type": "stream",
     "text": [
      "/opt/conda/lib/python3.7/site-packages/ta/trend.py:768: RuntimeWarning: invalid value encountered in double_scalars\n",
      "  dip[i] = 100 * (self._dip[i] / self._trs[i])\n",
      "/opt/conda/lib/python3.7/site-packages/ta/trend.py:772: RuntimeWarning: invalid value encountered in double_scalars\n",
      "  din[i] = 100 * (self._din[i] / self._trs[i])\n"
     ]
    },
    {
     "name": "stdout",
     "output_type": "stream",
     "text": [
      "CVX\n"
     ]
    },
    {
     "name": "stderr",
     "output_type": "stream",
     "text": [
      "/opt/conda/lib/python3.7/site-packages/ta/trend.py:768: RuntimeWarning: invalid value encountered in double_scalars\n",
      "  dip[i] = 100 * (self._dip[i] / self._trs[i])\n",
      "/opt/conda/lib/python3.7/site-packages/ta/trend.py:772: RuntimeWarning: invalid value encountered in double_scalars\n",
      "  din[i] = 100 * (self._din[i] / self._trs[i])\n"
     ]
    },
    {
     "name": "stdout",
     "output_type": "stream",
     "text": [
      "CSCO\n"
     ]
    },
    {
     "name": "stderr",
     "output_type": "stream",
     "text": [
      "/opt/conda/lib/python3.7/site-packages/ta/trend.py:768: RuntimeWarning: invalid value encountered in double_scalars\n",
      "  dip[i] = 100 * (self._dip[i] / self._trs[i])\n",
      "/opt/conda/lib/python3.7/site-packages/ta/trend.py:772: RuntimeWarning: invalid value encountered in double_scalars\n",
      "  din[i] = 100 * (self._din[i] / self._trs[i])\n"
     ]
    },
    {
     "name": "stdout",
     "output_type": "stream",
     "text": [
      "KO\n"
     ]
    },
    {
     "name": "stderr",
     "output_type": "stream",
     "text": [
      "/opt/conda/lib/python3.7/site-packages/ta/trend.py:768: RuntimeWarning: invalid value encountered in double_scalars\n",
      "  dip[i] = 100 * (self._dip[i] / self._trs[i])\n",
      "/opt/conda/lib/python3.7/site-packages/ta/trend.py:772: RuntimeWarning: invalid value encountered in double_scalars\n",
      "  din[i] = 100 * (self._din[i] / self._trs[i])\n"
     ]
    },
    {
     "name": "stdout",
     "output_type": "stream",
     "text": [
      "DIS\n"
     ]
    },
    {
     "name": "stderr",
     "output_type": "stream",
     "text": [
      "/opt/conda/lib/python3.7/site-packages/ta/trend.py:768: RuntimeWarning: invalid value encountered in double_scalars\n",
      "  dip[i] = 100 * (self._dip[i] / self._trs[i])\n",
      "/opt/conda/lib/python3.7/site-packages/ta/trend.py:772: RuntimeWarning: invalid value encountered in double_scalars\n",
      "  din[i] = 100 * (self._din[i] / self._trs[i])\n"
     ]
    },
    {
     "name": "stdout",
     "output_type": "stream",
     "text": [
      "XOM\n"
     ]
    },
    {
     "name": "stderr",
     "output_type": "stream",
     "text": [
      "/opt/conda/lib/python3.7/site-packages/ta/trend.py:768: RuntimeWarning: invalid value encountered in double_scalars\n",
      "  dip[i] = 100 * (self._dip[i] / self._trs[i])\n",
      "/opt/conda/lib/python3.7/site-packages/ta/trend.py:772: RuntimeWarning: invalid value encountered in double_scalars\n",
      "  din[i] = 100 * (self._din[i] / self._trs[i])\n"
     ]
    },
    {
     "name": "stdout",
     "output_type": "stream",
     "text": [
      "GE\n"
     ]
    },
    {
     "name": "stderr",
     "output_type": "stream",
     "text": [
      "/opt/conda/lib/python3.7/site-packages/ta/trend.py:768: RuntimeWarning: invalid value encountered in double_scalars\n",
      "  dip[i] = 100 * (self._dip[i] / self._trs[i])\n",
      "/opt/conda/lib/python3.7/site-packages/ta/trend.py:772: RuntimeWarning: invalid value encountered in double_scalars\n",
      "  din[i] = 100 * (self._din[i] / self._trs[i])\n"
     ]
    },
    {
     "name": "stdout",
     "output_type": "stream",
     "text": [
      "GS\n"
     ]
    },
    {
     "name": "stderr",
     "output_type": "stream",
     "text": [
      "/opt/conda/lib/python3.7/site-packages/ta/trend.py:768: RuntimeWarning: invalid value encountered in double_scalars\n",
      "  dip[i] = 100 * (self._dip[i] / self._trs[i])\n",
      "/opt/conda/lib/python3.7/site-packages/ta/trend.py:772: RuntimeWarning: invalid value encountered in double_scalars\n",
      "  din[i] = 100 * (self._din[i] / self._trs[i])\n"
     ]
    },
    {
     "name": "stdout",
     "output_type": "stream",
     "text": [
      "HD\n"
     ]
    },
    {
     "name": "stderr",
     "output_type": "stream",
     "text": [
      "/opt/conda/lib/python3.7/site-packages/ta/trend.py:768: RuntimeWarning: invalid value encountered in double_scalars\n",
      "  dip[i] = 100 * (self._dip[i] / self._trs[i])\n",
      "/opt/conda/lib/python3.7/site-packages/ta/trend.py:772: RuntimeWarning: invalid value encountered in double_scalars\n",
      "  din[i] = 100 * (self._din[i] / self._trs[i])\n"
     ]
    },
    {
     "name": "stdout",
     "output_type": "stream",
     "text": [
      "IBM\n"
     ]
    },
    {
     "name": "stderr",
     "output_type": "stream",
     "text": [
      "/opt/conda/lib/python3.7/site-packages/ta/trend.py:768: RuntimeWarning: invalid value encountered in double_scalars\n",
      "  dip[i] = 100 * (self._dip[i] / self._trs[i])\n",
      "/opt/conda/lib/python3.7/site-packages/ta/trend.py:772: RuntimeWarning: invalid value encountered in double_scalars\n",
      "  din[i] = 100 * (self._din[i] / self._trs[i])\n"
     ]
    },
    {
     "name": "stdout",
     "output_type": "stream",
     "text": [
      "INTC\n"
     ]
    },
    {
     "name": "stderr",
     "output_type": "stream",
     "text": [
      "/opt/conda/lib/python3.7/site-packages/ta/trend.py:768: RuntimeWarning: invalid value encountered in double_scalars\n",
      "  dip[i] = 100 * (self._dip[i] / self._trs[i])\n",
      "/opt/conda/lib/python3.7/site-packages/ta/trend.py:772: RuntimeWarning: invalid value encountered in double_scalars\n",
      "  din[i] = 100 * (self._din[i] / self._trs[i])\n"
     ]
    },
    {
     "name": "stdout",
     "output_type": "stream",
     "text": [
      "JNJ\n"
     ]
    },
    {
     "name": "stderr",
     "output_type": "stream",
     "text": [
      "/opt/conda/lib/python3.7/site-packages/ta/trend.py:768: RuntimeWarning: invalid value encountered in double_scalars\n",
      "  dip[i] = 100 * (self._dip[i] / self._trs[i])\n",
      "/opt/conda/lib/python3.7/site-packages/ta/trend.py:772: RuntimeWarning: invalid value encountered in double_scalars\n",
      "  din[i] = 100 * (self._din[i] / self._trs[i])\n"
     ]
    },
    {
     "name": "stdout",
     "output_type": "stream",
     "text": [
      "JPM\n"
     ]
    },
    {
     "name": "stderr",
     "output_type": "stream",
     "text": [
      "/opt/conda/lib/python3.7/site-packages/ta/trend.py:768: RuntimeWarning: invalid value encountered in double_scalars\n",
      "  dip[i] = 100 * (self._dip[i] / self._trs[i])\n",
      "/opt/conda/lib/python3.7/site-packages/ta/trend.py:772: RuntimeWarning: invalid value encountered in double_scalars\n",
      "  din[i] = 100 * (self._din[i] / self._trs[i])\n"
     ]
    },
    {
     "name": "stdout",
     "output_type": "stream",
     "text": [
      "MCD\n"
     ]
    },
    {
     "name": "stderr",
     "output_type": "stream",
     "text": [
      "/opt/conda/lib/python3.7/site-packages/ta/trend.py:768: RuntimeWarning: invalid value encountered in double_scalars\n",
      "  dip[i] = 100 * (self._dip[i] / self._trs[i])\n",
      "/opt/conda/lib/python3.7/site-packages/ta/trend.py:772: RuntimeWarning: invalid value encountered in double_scalars\n",
      "  din[i] = 100 * (self._din[i] / self._trs[i])\n"
     ]
    },
    {
     "name": "stdout",
     "output_type": "stream",
     "text": [
      "MRK\n"
     ]
    },
    {
     "name": "stderr",
     "output_type": "stream",
     "text": [
      "/opt/conda/lib/python3.7/site-packages/ta/trend.py:768: RuntimeWarning: invalid value encountered in double_scalars\n",
      "  dip[i] = 100 * (self._dip[i] / self._trs[i])\n",
      "/opt/conda/lib/python3.7/site-packages/ta/trend.py:772: RuntimeWarning: invalid value encountered in double_scalars\n",
      "  din[i] = 100 * (self._din[i] / self._trs[i])\n"
     ]
    },
    {
     "name": "stdout",
     "output_type": "stream",
     "text": [
      "MSFT\n"
     ]
    },
    {
     "name": "stderr",
     "output_type": "stream",
     "text": [
      "/opt/conda/lib/python3.7/site-packages/ta/trend.py:768: RuntimeWarning: invalid value encountered in double_scalars\n",
      "  dip[i] = 100 * (self._dip[i] / self._trs[i])\n",
      "/opt/conda/lib/python3.7/site-packages/ta/trend.py:772: RuntimeWarning: invalid value encountered in double_scalars\n",
      "  din[i] = 100 * (self._din[i] / self._trs[i])\n"
     ]
    },
    {
     "name": "stdout",
     "output_type": "stream",
     "text": [
      "NKE\n"
     ]
    },
    {
     "name": "stderr",
     "output_type": "stream",
     "text": [
      "/opt/conda/lib/python3.7/site-packages/ta/trend.py:768: RuntimeWarning: invalid value encountered in double_scalars\n",
      "  dip[i] = 100 * (self._dip[i] / self._trs[i])\n",
      "/opt/conda/lib/python3.7/site-packages/ta/trend.py:772: RuntimeWarning: invalid value encountered in double_scalars\n",
      "  din[i] = 100 * (self._din[i] / self._trs[i])\n"
     ]
    },
    {
     "name": "stdout",
     "output_type": "stream",
     "text": [
      "PFE\n"
     ]
    },
    {
     "name": "stderr",
     "output_type": "stream",
     "text": [
      "/opt/conda/lib/python3.7/site-packages/ta/trend.py:768: RuntimeWarning: invalid value encountered in double_scalars\n",
      "  dip[i] = 100 * (self._dip[i] / self._trs[i])\n",
      "/opt/conda/lib/python3.7/site-packages/ta/trend.py:772: RuntimeWarning: invalid value encountered in double_scalars\n",
      "  din[i] = 100 * (self._din[i] / self._trs[i])\n"
     ]
    },
    {
     "name": "stdout",
     "output_type": "stream",
     "text": [
      "PG\n"
     ]
    },
    {
     "name": "stderr",
     "output_type": "stream",
     "text": [
      "/opt/conda/lib/python3.7/site-packages/ta/trend.py:768: RuntimeWarning: invalid value encountered in double_scalars\n",
      "  dip[i] = 100 * (self._dip[i] / self._trs[i])\n",
      "/opt/conda/lib/python3.7/site-packages/ta/trend.py:772: RuntimeWarning: invalid value encountered in double_scalars\n",
      "  din[i] = 100 * (self._din[i] / self._trs[i])\n"
     ]
    },
    {
     "name": "stdout",
     "output_type": "stream",
     "text": [
      "TRV\n"
     ]
    },
    {
     "name": "stderr",
     "output_type": "stream",
     "text": [
      "/opt/conda/lib/python3.7/site-packages/ta/trend.py:768: RuntimeWarning: invalid value encountered in double_scalars\n",
      "  dip[i] = 100 * (self._dip[i] / self._trs[i])\n",
      "/opt/conda/lib/python3.7/site-packages/ta/trend.py:772: RuntimeWarning: invalid value encountered in double_scalars\n",
      "  din[i] = 100 * (self._din[i] / self._trs[i])\n"
     ]
    },
    {
     "name": "stdout",
     "output_type": "stream",
     "text": [
      "UTX\n"
     ]
    },
    {
     "name": "stderr",
     "output_type": "stream",
     "text": [
      "/opt/conda/lib/python3.7/site-packages/ta/trend.py:768: RuntimeWarning: invalid value encountered in double_scalars\n",
      "  dip[i] = 100 * (self._dip[i] / self._trs[i])\n",
      "/opt/conda/lib/python3.7/site-packages/ta/trend.py:772: RuntimeWarning: invalid value encountered in double_scalars\n",
      "  din[i] = 100 * (self._din[i] / self._trs[i])\n"
     ]
    },
    {
     "name": "stdout",
     "output_type": "stream",
     "text": [
      "UNH\n"
     ]
    },
    {
     "name": "stderr",
     "output_type": "stream",
     "text": [
      "/opt/conda/lib/python3.7/site-packages/ta/trend.py:768: RuntimeWarning: invalid value encountered in double_scalars\n",
      "  dip[i] = 100 * (self._dip[i] / self._trs[i])\n",
      "/opt/conda/lib/python3.7/site-packages/ta/trend.py:772: RuntimeWarning: invalid value encountered in double_scalars\n",
      "  din[i] = 100 * (self._din[i] / self._trs[i])\n"
     ]
    },
    {
     "name": "stdout",
     "output_type": "stream",
     "text": [
      "VZ\n"
     ]
    },
    {
     "name": "stderr",
     "output_type": "stream",
     "text": [
      "/opt/conda/lib/python3.7/site-packages/ta/trend.py:768: RuntimeWarning: invalid value encountered in double_scalars\n",
      "  dip[i] = 100 * (self._dip[i] / self._trs[i])\n",
      "/opt/conda/lib/python3.7/site-packages/ta/trend.py:772: RuntimeWarning: invalid value encountered in double_scalars\n",
      "  din[i] = 100 * (self._din[i] / self._trs[i])\n"
     ]
    },
    {
     "name": "stdout",
     "output_type": "stream",
     "text": [
      "WMT\n"
     ]
    },
    {
     "name": "stderr",
     "output_type": "stream",
     "text": [
      "/opt/conda/lib/python3.7/site-packages/ta/trend.py:768: RuntimeWarning: invalid value encountered in double_scalars\n",
      "  dip[i] = 100 * (self._dip[i] / self._trs[i])\n",
      "/opt/conda/lib/python3.7/site-packages/ta/trend.py:772: RuntimeWarning: invalid value encountered in double_scalars\n",
      "  din[i] = 100 * (self._din[i] / self._trs[i])\n"
     ]
    }
   ],
   "source": [
    "equities_dfs = get_eq_dict(equity_list)\n",
    "for eq in equity_list:\n",
    "    equities_dfs[eq] = equities_dfs[eq].set_index('Date')   "
   ]
  },
  {
   "cell_type": "code",
   "execution_count": 9,
   "metadata": {
    "id": "YpnQ5LK4PaJW"
   },
   "outputs": [
    {
     "data": {
      "text/plain": [
       "253"
      ]
     },
     "execution_count": 9,
     "metadata": {},
     "output_type": "execute_result"
    }
   ],
   "source": [
    "AAPL = equities_dfs['AAPL']\n",
    "len(AAPL.loc['2008-01-01':'2009-01-01'])"
   ]
  },
  {
   "cell_type": "code",
   "execution_count": 10,
   "metadata": {
    "scrolled": true
   },
   "outputs": [
    {
     "data": {
      "text/html": [
       "<div>\n",
       "<style scoped>\n",
       "    .dataframe tbody tr th:only-of-type {\n",
       "        vertical-align: middle;\n",
       "    }\n",
       "\n",
       "    .dataframe tbody tr th {\n",
       "        vertical-align: top;\n",
       "    }\n",
       "\n",
       "    .dataframe thead th {\n",
       "        text-align: right;\n",
       "    }\n",
       "</style>\n",
       "<table border=\"1\" class=\"dataframe\">\n",
       "  <thead>\n",
       "    <tr style=\"text-align: right;\">\n",
       "      <th></th>\n",
       "      <th>Unnamed: 0</th>\n",
       "      <th>2007-01-01 00:00:00</th>\n",
       "      <th>2008-01-01 00:00:00</th>\n",
       "      <th>2009-01-01 00:00:00</th>\n",
       "      <th>2010-01-01 00:00:00</th>\n",
       "      <th>2011-01-01 00:00:00</th>\n",
       "      <th>2012-01-01 00:00:00</th>\n",
       "      <th>2013-01-01 00:00:00</th>\n",
       "      <th>2014-01-01 00:00:00</th>\n",
       "      <th>2015-01-01 00:00:00</th>\n",
       "      <th>2016-01-01 00:00:00</th>\n",
       "    </tr>\n",
       "  </thead>\n",
       "  <tbody>\n",
       "    <tr>\n",
       "      <th>0</th>\n",
       "      <td>0</td>\n",
       "      <td>1.0</td>\n",
       "      <td>1</td>\n",
       "      <td>0.0</td>\n",
       "      <td>0.0</td>\n",
       "      <td>0.0</td>\n",
       "      <td>0.0</td>\n",
       "      <td>0.0</td>\n",
       "      <td>0.0</td>\n",
       "      <td>1.0</td>\n",
       "      <td>1.0</td>\n",
       "    </tr>\n",
       "    <tr>\n",
       "      <th>1</th>\n",
       "      <td>1</td>\n",
       "      <td>0.0</td>\n",
       "      <td>0</td>\n",
       "      <td>1.0</td>\n",
       "      <td>0.0</td>\n",
       "      <td>0.0</td>\n",
       "      <td>0.0</td>\n",
       "      <td>0.0</td>\n",
       "      <td>1.0</td>\n",
       "      <td>1.0</td>\n",
       "      <td>1.0</td>\n",
       "    </tr>\n",
       "    <tr>\n",
       "      <th>2</th>\n",
       "      <td>2</td>\n",
       "      <td>0.0</td>\n",
       "      <td>0</td>\n",
       "      <td>1.0</td>\n",
       "      <td>0.0</td>\n",
       "      <td>0.0</td>\n",
       "      <td>0.0</td>\n",
       "      <td>0.0</td>\n",
       "      <td>1.0</td>\n",
       "      <td>0.0</td>\n",
       "      <td>1.0</td>\n",
       "    </tr>\n",
       "    <tr>\n",
       "      <th>3</th>\n",
       "      <td>3</td>\n",
       "      <td>1.0</td>\n",
       "      <td>1</td>\n",
       "      <td>0.0</td>\n",
       "      <td>1.0</td>\n",
       "      <td>1.0</td>\n",
       "      <td>1.0</td>\n",
       "      <td>0.0</td>\n",
       "      <td>1.0</td>\n",
       "      <td>1.0</td>\n",
       "      <td>1.0</td>\n",
       "    </tr>\n",
       "    <tr>\n",
       "      <th>4</th>\n",
       "      <td>4</td>\n",
       "      <td>0.0</td>\n",
       "      <td>1</td>\n",
       "      <td>0.0</td>\n",
       "      <td>0.0</td>\n",
       "      <td>0.0</td>\n",
       "      <td>0.0</td>\n",
       "      <td>1.0</td>\n",
       "      <td>1.0</td>\n",
       "      <td>0.0</td>\n",
       "      <td>0.0</td>\n",
       "    </tr>\n",
       "    <tr>\n",
       "      <th>...</th>\n",
       "      <td>...</td>\n",
       "      <td>...</td>\n",
       "      <td>...</td>\n",
       "      <td>...</td>\n",
       "      <td>...</td>\n",
       "      <td>...</td>\n",
       "      <td>...</td>\n",
       "      <td>...</td>\n",
       "      <td>...</td>\n",
       "      <td>...</td>\n",
       "      <td>...</td>\n",
       "    </tr>\n",
       "    <tr>\n",
       "      <th>248</th>\n",
       "      <td>248</td>\n",
       "      <td>1.0</td>\n",
       "      <td>1</td>\n",
       "      <td>2.0</td>\n",
       "      <td>2.0</td>\n",
       "      <td>2.0</td>\n",
       "      <td>1.0</td>\n",
       "      <td>2.0</td>\n",
       "      <td>1.0</td>\n",
       "      <td>2.0</td>\n",
       "      <td>1.0</td>\n",
       "    </tr>\n",
       "    <tr>\n",
       "      <th>249</th>\n",
       "      <td>249</td>\n",
       "      <td>1.0</td>\n",
       "      <td>2</td>\n",
       "      <td>2.0</td>\n",
       "      <td>1.0</td>\n",
       "      <td>2.0</td>\n",
       "      <td>1.0</td>\n",
       "      <td>2.0</td>\n",
       "      <td>2.0</td>\n",
       "      <td>2.0</td>\n",
       "      <td>2.0</td>\n",
       "    </tr>\n",
       "    <tr>\n",
       "      <th>250</th>\n",
       "      <td>250</td>\n",
       "      <td>2.0</td>\n",
       "      <td>1</td>\n",
       "      <td>2.0</td>\n",
       "      <td>1.0</td>\n",
       "      <td>2.0</td>\n",
       "      <td>NaN</td>\n",
       "      <td>2.0</td>\n",
       "      <td>2.0</td>\n",
       "      <td>1.0</td>\n",
       "      <td>1.0</td>\n",
       "    </tr>\n",
       "    <tr>\n",
       "      <th>251</th>\n",
       "      <td>251</td>\n",
       "      <td>NaN</td>\n",
       "      <td>1</td>\n",
       "      <td>1.0</td>\n",
       "      <td>1.0</td>\n",
       "      <td>2.0</td>\n",
       "      <td>NaN</td>\n",
       "      <td>2.0</td>\n",
       "      <td>1.0</td>\n",
       "      <td>1.0</td>\n",
       "      <td>1.0</td>\n",
       "    </tr>\n",
       "    <tr>\n",
       "      <th>252</th>\n",
       "      <td>252</td>\n",
       "      <td>NaN</td>\n",
       "      <td>2</td>\n",
       "      <td>NaN</td>\n",
       "      <td>NaN</td>\n",
       "      <td>NaN</td>\n",
       "      <td>NaN</td>\n",
       "      <td>NaN</td>\n",
       "      <td>NaN</td>\n",
       "      <td>NaN</td>\n",
       "      <td>NaN</td>\n",
       "    </tr>\n",
       "  </tbody>\n",
       "</table>\n",
       "<p>253 rows × 11 columns</p>\n",
       "</div>"
      ],
      "text/plain": [
       "     Unnamed: 0  2007-01-01 00:00:00  2008-01-01 00:00:00  \\\n",
       "0             0                  1.0                    1   \n",
       "1             1                  0.0                    0   \n",
       "2             2                  0.0                    0   \n",
       "3             3                  1.0                    1   \n",
       "4             4                  0.0                    1   \n",
       "..          ...                  ...                  ...   \n",
       "248         248                  1.0                    1   \n",
       "249         249                  1.0                    2   \n",
       "250         250                  2.0                    1   \n",
       "251         251                  NaN                    1   \n",
       "252         252                  NaN                    2   \n",
       "\n",
       "     2009-01-01 00:00:00  2010-01-01 00:00:00  2011-01-01 00:00:00  \\\n",
       "0                    0.0                  0.0                  0.0   \n",
       "1                    1.0                  0.0                  0.0   \n",
       "2                    1.0                  0.0                  0.0   \n",
       "3                    0.0                  1.0                  1.0   \n",
       "4                    0.0                  0.0                  0.0   \n",
       "..                   ...                  ...                  ...   \n",
       "248                  2.0                  2.0                  2.0   \n",
       "249                  2.0                  1.0                  2.0   \n",
       "250                  2.0                  1.0                  2.0   \n",
       "251                  1.0                  1.0                  2.0   \n",
       "252                  NaN                  NaN                  NaN   \n",
       "\n",
       "     2012-01-01 00:00:00  2013-01-01 00:00:00  2014-01-01 00:00:00  \\\n",
       "0                    0.0                  0.0                  0.0   \n",
       "1                    0.0                  0.0                  1.0   \n",
       "2                    0.0                  0.0                  1.0   \n",
       "3                    1.0                  0.0                  1.0   \n",
       "4                    0.0                  1.0                  1.0   \n",
       "..                   ...                  ...                  ...   \n",
       "248                  1.0                  2.0                  1.0   \n",
       "249                  1.0                  2.0                  2.0   \n",
       "250                  NaN                  2.0                  2.0   \n",
       "251                  NaN                  2.0                  1.0   \n",
       "252                  NaN                  NaN                  NaN   \n",
       "\n",
       "     2015-01-01 00:00:00  2016-01-01 00:00:00  \n",
       "0                    1.0                  1.0  \n",
       "1                    1.0                  1.0  \n",
       "2                    0.0                  1.0  \n",
       "3                    1.0                  1.0  \n",
       "4                    0.0                  0.0  \n",
       "..                   ...                  ...  \n",
       "248                  2.0                  1.0  \n",
       "249                  2.0                  2.0  \n",
       "250                  1.0                  1.0  \n",
       "251                  1.0                  1.0  \n",
       "252                  NaN                  NaN  \n",
       "\n",
       "[253 rows x 11 columns]"
      ]
     },
     "execution_count": 10,
     "metadata": {},
     "output_type": "execute_result"
    }
   ],
   "source": [
    "file_path = \"predictions/baseline/\" + 'AAPL' + \"_baseline.csv\"\n",
    "prediction = pd.read_csv(file_path)\n",
    "prediction"
   ]
  },
  {
   "cell_type": "code",
   "execution_count": 18,
   "metadata": {},
   "outputs": [],
   "source": [
    "def calculate_AR(equity_name):\n",
    "    \n",
    "    file_path = \"predictions/baseline_3_0/\" + equity_name + \"_baseline.csv\"\n",
    "    prediction = pd.read_csv(file_path)\n",
    "    \n",
    "    equity = equities_dfs[equity_name]\n",
    "\n",
    "    # 0 = buy, 1 = hold, 2 = sell\n",
    "    year = ['2007-01-01', '2008-01-01', '2009-01-01', '2010-01-01', '2011-01-01', '2012-01-01', '2013-01-01', '2014-01-01', '2015-01-01', '2016-01-01', '2017-01-01']\n",
    "    money = 10000\n",
    "    no_of_stock = 0\n",
    "    state = 1 # initial state of holding\n",
    "\n",
    "    for i in range(10): # in ten years\n",
    "        for j in range(len(equity.loc[year[i]:year[i+1]])): # in a year\n",
    "            action = prediction[year[i]+\" 00:00:00\"].iloc[j]\n",
    "            price = equity['Close'].loc[year[i]:year[i+1]].iloc[j]\n",
    "            if pd.isnull(action):\n",
    "                break\n",
    "            if action == 0 and state != 0:\n",
    "                no_of_stock = money / price\n",
    "                money = 0\n",
    "                state = 0 # update state to 'bought'\n",
    "            if action == 2 and state == 0:\n",
    "                money = price * no_of_stock\n",
    "                no_of_stock = 0\n",
    "                state = 2 # update state to 'sold'\n",
    "\n",
    "    close_price = equity['Close'].loc['2007-01-01':'2017-01-01'].iloc[-1]\n",
    "    start_price = equity['Close'].loc['2007-01-01':'2017-01-01'].iloc[0]\n",
    "    if no_of_stock != 0:\n",
    "        money = close_price * no_of_stock # sell all stocks in the end\n",
    "\n",
    "    AR = np.power(money/10000, 1/10) - 1\n",
    "    BaH = np.power(close_price/start_price, 1/10) - 1\n",
    "    \n",
    "#     print(equity_name)\n",
    "#     print('Buy&Hold:', BaH)\n",
    "#     print('Annual return:', AR)\n",
    "#     print(equity_name + '\\t %.2f\\t %.2f' % (100*AR, 100*BaH))\n",
    "\n",
    "    return AR, BaH"
   ]
  },
  {
   "cell_type": "code",
   "execution_count": 19,
   "metadata": {},
   "outputs": [
    {
     "name": "stdout",
     "output_type": "stream",
     "text": [
      "Stock\t AR\t Buy & Hold\n",
      "MMM\t -0.01\t 8.60\n",
      "AXP\t 0.95\t 2.07\n",
      "AAPL\t 18.79\t 3.29\n",
      "BA\t 8.24\t 5.73\n",
      "CAT\t 3.50\t 4.25\n",
      "CVX\t 10.24\t 5.19\n",
      "CSCO\t 6.93\t 0.86\n",
      "KO\t 0.52\t -1.57\n",
      "DIS\t 12.25\t 11.79\n",
      "XOM\t 5.03\t 1.99\n",
      "GE\t 8.96\t -1.82\n",
      "GS\t 11.13\t 1.78\n",
      "HD\t 10.66\t 12.56\n",
      "IBM\t 1.16\t 5.49\n",
      "INTC\t -1.40\t 5.95\n",
      "JNJ\t 4.68\t 5.67\n",
      "JPM\t 7.02\t 6.03\n",
      "MCD\t 2.30\t 10.74\n",
      "MRK\t -4.73\t 2.95\n",
      "MSFT\t 5.96\t 7.60\n",
      "NKE\t 8.85\t -6.32\n",
      "PFE\t -3.35\t 2.14\n",
      "PG\t 1.92\t 2.68\n",
      "TRV\t 7.65\t 8.62\n",
      "UTX\t 5.79\t 5.73\n",
      "UNH\t 5.79\t 11.78\n",
      "VZ\t -0.61\t 3.51\n",
      "WMT\t 0.25\t 3.81\n",
      "Average\t 4.95\t 4.68\n",
      "St.Dev.\t 5.18\t 4.24\n"
     ]
    }
   ],
   "source": [
    "print(\"Stock\\t AR\\t Buy & Hold\")\n",
    "\n",
    "AR_all = []\n",
    "BaH_all = []\n",
    "for equity in equity_list:\n",
    "    AR, BaH = calculate_AR(equity)\n",
    "    AR_all.append(AR)\n",
    "    BaH_all.append(BaH)\n",
    "    print(equity + '\\t %.2f\\t %.2f' % (100*AR, 100*BaH))\n",
    "    \n",
    "print('Average\\t %.2f\\t %.2f' % (100*np.average(AR_all), 100*np.average(BaH_all)))\n",
    "print('St.Dev.\\t %.2f\\t %.2f' % (100*np.std(AR_all), 100*np.std(BaH_all)))"
   ]
  },
  {
   "cell_type": "code",
   "execution_count": 14,
   "metadata": {},
   "outputs": [],
   "source": [
    "import datetime\n",
    "\n",
    "def plot_profit(equity_name):\n",
    "    \n",
    "    file_path = \"predictions/baseline_test/\" + equity_name + \"_baseline.csv\"\n",
    "    prediction = pd.read_csv(file_path)\n",
    "    \n",
    "    equity = equities_dfs[equity_name]\n",
    "\n",
    "    # 0 = buy, 1 = hold, 2 = sell\n",
    "    year = ['2007-01-01', '2008-01-01', '2009-01-01', '2010-01-01', '2011-01-01', '2012-01-01', '2013-01-01', '2014-01-01', '2015-01-01', '2016-01-01', '2017-01-01']\n",
    "    money = 10000\n",
    "    no_of_stock = 0\n",
    "    state = 1 # initial state of holding\n",
    "    \n",
    "    dates = []\n",
    "    prediction_profit = []\n",
    "    counter = 0\n",
    "    BaH_profit = []\n",
    "    start_price = equity['Close'].loc['2007-01-01':'2017-01-01'].iloc[0]\n",
    "\n",
    "    for i in range(10): # in ten years\n",
    "        for j in range(len(equity.loc[year[i]:year[i+1]])): # in a year\n",
    "            action = prediction[year[i]+\" 00:00:00\"].iloc[j]\n",
    "            price = equity['Close'].loc[year[i]:year[i+1]].iloc[j]\n",
    "            if pd.isnull(action):\n",
    "                break\n",
    "            if action == 0 and state != 0:\n",
    "                no_of_stock = money / price\n",
    "                money = 0\n",
    "                state = 0 # update state to 'bought'\n",
    "            if action == 2 and state == 0:\n",
    "                money = price * no_of_stock\n",
    "                no_of_stock = 0\n",
    "                state = 2 # update state to 'sold'\n",
    "                # For profit plot\n",
    "                dates.append(equity.loc['2007-01-01':'2017-01-01'].index[counter])\n",
    "                prediction_profit.append(money)\n",
    "                BaH_profit.append(10000*price/start_price)\n",
    "            counter += 1\n",
    "            \n",
    "    return dates, prediction_profit, BaH_profit"
   ]
  },
  {
   "cell_type": "code",
   "execution_count": 16,
   "metadata": {
    "collapsed": true,
    "jupyter": {
     "outputs_hidden": true
    }
   },
   "outputs": [
    {
     "data": {
      "image/png": "[encoded data removed]",
      "text/plain": [
       "<Figure size 432x288 with 1 Axes>"
      ]
     },
     "metadata": {
      "needs_background": "light"
     },
     "output_type": "display_data"
    }
   ],
   "source": [
    "equity_name = 'CVX'\n",
    "dates, prediction_profit, BaH_profit = plot_profit(equity_name)\n",
    "\n",
    "plt.plot(dates, prediction_profit, label='prediction')\n",
    "plt.plot(dates, BaH_profit, label='Buy & Hold')\n",
    "\n",
    "plt.title('Baseline ' + equity_name + ' - Profits Over the Years (2007-2017)')\n",
    "plt.xlabel('Year')\n",
    "plt.ylabel('Capital($)')\n",
    "plt.legend()\n",
    "plt.show()"
   ]
  },
  {
   "cell_type": "markdown",
   "metadata": {},
   "source": [
    "# Additional Features"
   ]
  },
  {
   "cell_type": "code",
   "execution_count": 7,
   "metadata": {},
   "outputs": [],
   "source": [
    "def calculate_AR(equity_name):\n",
    "    \n",
    "    file_path = \"predictions/additional_2_0/\" + equity_name + \"_additional.csv\"\n",
    "    prediction = pd.read_csv(file_path)\n",
    "    \n",
    "    equity = equities_dfs[equity_name]\n",
    "\n",
    "    # 0 = buy, 1 = hold, 2 = sell\n",
    "    year = ['2007-01-01', '2008-01-01', '2009-01-01', '2010-01-01', '2011-01-01', '2012-01-01', '2013-01-01', '2014-01-01', '2015-01-01', '2016-01-01', '2017-01-01']\n",
    "    money = 10000\n",
    "    no_of_stock = 0\n",
    "    state = 1 # initial state of holding\n",
    "\n",
    "    for i in range(10): # in ten years\n",
    "        for j in range(len(equity.loc[year[i]:year[i+1]])): # in a year\n",
    "            action = prediction[year[i]+\" 00:00:00\"].iloc[j]\n",
    "            price = equity['Close'].loc[year[i]:year[i+1]].iloc[j]\n",
    "            if pd.isnull(action):\n",
    "                break\n",
    "            if action == 0 and state != 0:\n",
    "                no_of_stock = money / price\n",
    "                money = 0\n",
    "                state = 0 # update state to 'bought'\n",
    "            if action == 2 and state == 0:\n",
    "                money = price * no_of_stock\n",
    "                no_of_stock = 0\n",
    "                state = 2 # update state to 'sold'\n",
    "\n",
    "    close_price = equity['Close'].loc['2007-01-01':'2017-01-01'].iloc[-1]\n",
    "    start_price = equity['Close'].loc['2007-01-01':'2017-01-01'].iloc[0]\n",
    "    if no_of_stock != 0:\n",
    "        money = close_price * no_of_stock # sell all stocks in the end\n",
    "\n",
    "    AR = np.power(money/10000, 1/10) - 1\n",
    "    BaH = np.power(close_price/start_price, 1/10) - 1\n",
    "\n",
    "    return AR, BaH"
   ]
  },
  {
   "cell_type": "code",
   "execution_count": 8,
   "metadata": {},
   "outputs": [],
   "source": [
    "import datetime\n",
    "\n",
    "def plot_profit(equity_name):\n",
    "    \n",
    "    file_path = \"predictions/additional_2_0/\" + equity_name + \"_additional.csv\"\n",
    "    prediction = pd.read_csv(file_path)\n",
    "    \n",
    "    equity = equities_dfs[equity_name]\n",
    "\n",
    "    # 0 = buy, 1 = hold, 2 = sell\n",
    "    year = ['2007-01-01', '2008-01-01', '2009-01-01', '2010-01-01', '2011-01-01', '2012-01-01', '2013-01-01', '2014-01-01', '2015-01-01', '2016-01-01', '2017-01-01']\n",
    "    money = 10000\n",
    "    no_of_stock = 0\n",
    "    state = 1 # initial state of holding\n",
    "    \n",
    "    dates = []\n",
    "    prediction_profit = []\n",
    "    counter = 0\n",
    "    BaH_profit = []\n",
    "    start_price = equity['Close'].loc['2007-01-01':'2017-01-01'].iloc[0]\n",
    "\n",
    "    for i in range(10): # in ten years\n",
    "        for j in range(len(equity.loc[year[i]:year[i+1]])): # in a year\n",
    "            action = prediction[year[i]+\" 00:00:00\"].iloc[j]\n",
    "            price = equity['Close'].loc[year[i]:year[i+1]].iloc[j]\n",
    "            if pd.isnull(action):\n",
    "                break\n",
    "            if action == 0 and state != 0:\n",
    "                no_of_stock = money / price\n",
    "                money = 0\n",
    "                state = 0 # update state to 'bought'\n",
    "            if action == 2 and state == 0:\n",
    "                money = price * no_of_stock\n",
    "                no_of_stock = 0\n",
    "                state = 2 # update state to 'sold'\n",
    "                # For profit plot\n",
    "                dates.append(equity.loc['2007-01-01':'2017-01-01'].index[counter])\n",
    "                prediction_profit.append(money)\n",
    "                BaH_profit.append(10000*price/start_price)\n",
    "            counter += 1\n",
    "            \n",
    "    return dates, prediction_profit, BaH_profit"
   ]
  },
  {
   "cell_type": "code",
   "execution_count": 9,
   "metadata": {},
   "outputs": [
    {
     "name": "stdout",
     "output_type": "stream",
     "text": [
      "Stock\t AR\t Buy & Hold\n",
      "MMM\t -1.32\t 8.60\n",
      "AXP\t 5.47\t 2.07\n",
      "AAPL\t 23.32\t 3.29\n",
      "BA\t 9.72\t 5.73\n",
      "CAT\t -3.47\t 4.25\n",
      "CVX\t 9.36\t 5.19\n",
      "CSCO\t 3.18\t 0.86\n",
      "KO\t 0.47\t -1.57\n",
      "DIS\t 14.76\t 11.79\n",
      "XOM\t 3.37\t 1.99\n",
      "GE\t 9.12\t -1.82\n",
      "GS\t 3.61\t 1.78\n",
      "HD\t 10.46\t 12.56\n",
      "IBM\t -2.51\t 5.49\n",
      "INTC\t -5.20\t 5.95\n",
      "JNJ\t 3.56\t 5.67\n",
      "JPM\t 14.34\t 6.03\n",
      "MCD\t 4.67\t 10.74\n",
      "MRK\t -2.19\t 2.95\n",
      "MSFT\t 7.45\t 7.60\n",
      "NKE\t 4.12\t -6.32\n",
      "PFE\t -0.14\t 2.14\n",
      "PG\t 5.61\t 2.68\n",
      "TRV\t 5.66\t 8.62\n",
      "UTX\t 2.77\t 5.73\n",
      "UNH\t 3.62\t 11.78\n",
      "VZ\t -1.10\t 3.51\n",
      "WMT\t 1.08\t 3.81\n",
      "Average\t 4.64\t 4.68\n",
      "St.Dev.\t 6.13\t 4.24\n"
     ]
    }
   ],
   "source": [
    "print(\"Stock\\t AR\\t Buy & Hold\")\n",
    "\n",
    "AR_all = []\n",
    "BaH_all = []\n",
    "for equity in equity_list:\n",
    "    AR, BaH = calculate_AR(equity)\n",
    "    AR_all.append(AR)\n",
    "    BaH_all.append(BaH)\n",
    "    print(equity + '\\t %.2f\\t %.2f' % (100*AR, 100*BaH))\n",
    "    \n",
    "print('Average\\t %.2f\\t %.2f' % (100*np.average(AR_all), 100*np.average(BaH_all)))\n",
    "print('St.Dev.\\t %.2f\\t %.2f' % (100*np.std(AR_all), 100*np.std(BaH_all)))"
   ]
  },
  {
   "cell_type": "code",
   "execution_count": 10,
   "metadata": {},
   "outputs": [
    {
     "data": {
      "image/png": "[encoded data removed]",
      "text/plain": [
       "<Figure size 432x288 with 1 Axes>"
      ]
     },
     "metadata": {
      "needs_background": "light"
     },
     "output_type": "display_data"
    }
   ],
   "source": [
    "equity_name = 'CVX'\n",
    "dates, prediction_profit, BaH_profit = plot_profit(equity_name)\n",
    "\n",
    "plt.plot(dates, prediction_profit, label='prediction')\n",
    "plt.plot(dates, BaH_profit, label='Buy & Hold')\n",
    "\n",
    "plt.title(equity_name + ' (Additional Features)' + ' - Profits Over the Years (2007-2017)')\n",
    "plt.xlabel('Year')\n",
    "plt.ylabel('Capital($)')\n",
    "plt.legend()\n",
    "plt.show()"
   ]
  },
  {
   "cell_type": "markdown",
   "metadata": {},
   "source": [
    "# Inception Blocks"
   ]
  },
  {
   "cell_type": "code",
   "execution_count": 11,
   "metadata": {},
   "outputs": [],
   "source": [
    "def calculate_AR(equity_name):\n",
    "    \n",
    "    file_path = \"predictions/inception_2_0/\" + equity_name + \"_inception.csv\"\n",
    "    prediction = pd.read_csv(file_path)\n",
    "    \n",
    "    equity = equities_dfs[equity_name]\n",
    "\n",
    "    # 0 = buy, 1 = hold, 2 = sell\n",
    "    year = ['2007-01-01', '2008-01-01', '2009-01-01', '2010-01-01', '2011-01-01', '2012-01-01', '2013-01-01', '2014-01-01', '2015-01-01', '2016-01-01', '2017-01-01']\n",
    "    money = 10000\n",
    "    no_of_stock = 0\n",
    "    state = 1 # initial state of holding\n",
    "\n",
    "    for i in range(10): # in ten years\n",
    "        for j in range(len(equity.loc[year[i]:year[i+1]])): # in a year\n",
    "            action = prediction[year[i]+\" 00:00:00\"].iloc[j]\n",
    "            price = equity['Close'].loc[year[i]:year[i+1]].iloc[j]\n",
    "            if pd.isnull(action):\n",
    "                break\n",
    "            if action == 0 and state != 0:\n",
    "                no_of_stock = money / price\n",
    "                money = 0\n",
    "                state = 0 # update state to 'bought'\n",
    "            if action == 2 and state == 0:\n",
    "                money = price * no_of_stock\n",
    "                no_of_stock = 0\n",
    "                state = 2 # update state to 'sold'\n",
    "\n",
    "    close_price = equity['Close'].loc['2007-01-01':'2017-01-01'].iloc[-1]\n",
    "    start_price = equity['Close'].loc['2007-01-01':'2017-01-01'].iloc[0]\n",
    "    if no_of_stock != 0:\n",
    "        money = close_price * no_of_stock # sell all stocks in the end\n",
    "\n",
    "    AR = np.power(money/10000, 1/10) - 1\n",
    "    BaH = np.power(close_price/start_price, 1/10) - 1\n",
    "\n",
    "    return AR, BaH"
   ]
  },
  {
   "cell_type": "code",
   "execution_count": 12,
   "metadata": {},
   "outputs": [],
   "source": [
    "import datetime\n",
    "\n",
    "def plot_profit(equity_name):\n",
    "    \n",
    "    file_path = \"predictions/inception_2_0/\" + equity_name + \"_inception.csv\"\n",
    "    prediction = pd.read_csv(file_path)\n",
    "    \n",
    "    equity = equities_dfs[equity_name]\n",
    "\n",
    "    # 0 = buy, 1 = hold, 2 = sell\n",
    "    year = ['2007-01-01', '2008-01-01', '2009-01-01', '2010-01-01', '2011-01-01', '2012-01-01', '2013-01-01', '2014-01-01', '2015-01-01', '2016-01-01', '2017-01-01']\n",
    "    money = 10000\n",
    "    no_of_stock = 0\n",
    "    state = 1 # initial state of holding\n",
    "    \n",
    "    dates = []\n",
    "    prediction_profit = []\n",
    "    counter = 0\n",
    "    BaH_profit = []\n",
    "    start_price = equity['Close'].loc['2007-01-01':'2017-01-01'].iloc[0]\n",
    "\n",
    "    for i in range(10): # in ten years\n",
    "        for j in range(len(equity.loc[year[i]:year[i+1]])): # in a year\n",
    "            action = prediction[year[i]+\" 00:00:00\"].iloc[j]\n",
    "            price = equity['Close'].loc[year[i]:year[i+1]].iloc[j]\n",
    "            if pd.isnull(action):\n",
    "                break\n",
    "            if action == 0 and state != 0:\n",
    "                no_of_stock = money / price\n",
    "                money = 0\n",
    "                state = 0 # update state to 'bought'\n",
    "            if action == 2 and state == 0:\n",
    "                money = price * no_of_stock\n",
    "                no_of_stock = 0\n",
    "                state = 2 # update state to 'sold'\n",
    "                # For profit plot\n",
    "                dates.append(equity.loc['2007-01-01':'2017-01-01'].index[counter])\n",
    "                prediction_profit.append(money)\n",
    "                BaH_profit.append(10000*price/start_price)\n",
    "            counter += 1\n",
    "            \n",
    "    return dates, prediction_profit, BaH_profit"
   ]
  },
  {
   "cell_type": "code",
   "execution_count": 13,
   "metadata": {},
   "outputs": [
    {
     "name": "stdout",
     "output_type": "stream",
     "text": [
      "Stock\t AR\t Buy & Hold\n",
      "MMM\t 8.57\t 8.60\n",
      "AXP\t 5.86\t 2.07\n",
      "AAPL\t -12.98\t 3.29\n",
      "BA\t 4.38\t 5.73\n",
      "CAT\t 1.96\t 4.25\n",
      "CVX\t -3.25\t 5.19\n",
      "CSCO\t 4.46\t 0.86\n",
      "KO\t -3.50\t -1.57\n",
      "DIS\t 7.51\t 11.79\n",
      "XOM\t -1.41\t 1.99\n",
      "GE\t -3.18\t -1.82\n",
      "GS\t 1.90\t 1.78\n",
      "HD\t 4.85\t 12.56\n",
      "IBM\t 3.05\t 5.49\n",
      "INTC\t 4.52\t 5.95\n",
      "JNJ\t -0.63\t 5.67\n",
      "JPM\t 12.33\t 6.03\n",
      "MCD\t 7.04\t 10.74\n",
      "MRK\t 5.64\t 2.95\n",
      "MSFT\t -1.66\t 7.60\n",
      "NKE\t 4.53\t -6.32\n",
      "PFE\t 5.39\t 2.14\n",
      "PG\t 2.79\t 2.68\n",
      "TRV\t -2.24\t 8.62\n",
      "UTX\t 9.99\t 5.73\n",
      "UNH\t 19.61\t 11.78\n",
      "VZ\t 4.29\t 3.51\n",
      "WMT\t 3.51\t 3.81\n",
      "Average\t 3.33\t 4.68\n",
      "St.Dev.\t 5.89\t 4.24\n"
     ]
    }
   ],
   "source": [
    "print(\"Stock\\t AR\\t Buy & Hold\")\n",
    "\n",
    "AR_all = []\n",
    "BaH_all = []\n",
    "for equity in equity_list:\n",
    "    AR, BaH = calculate_AR(equity)\n",
    "    AR_all.append(AR)\n",
    "    BaH_all.append(BaH)\n",
    "    print(equity + '\\t %.2f\\t %.2f' % (100*AR, 100*BaH))\n",
    "    \n",
    "print('Average\\t %.2f\\t %.2f' % (100*np.average(AR_all), 100*np.average(BaH_all)))\n",
    "print('St.Dev.\\t %.2f\\t %.2f' % (100*np.std(AR_all), 100*np.std(BaH_all)))"
   ]
  },
  {
   "cell_type": "code",
   "execution_count": 14,
   "metadata": {},
   "outputs": [
    {
     "data": {
      "image/png": "[encoded data removed]",
      "text/plain": [
       "<Figure size 432x288 with 1 Axes>"
      ]
     },
     "metadata": {
      "needs_background": "light"
     },
     "output_type": "display_data"
    }
   ],
   "source": [
    "equity_name = 'CVX'\n",
    "dates, prediction_profit, BaH_profit = plot_profit(equity_name)\n",
    "\n",
    "plt.plot(dates, prediction_profit, label='prediction')\n",
    "plt.plot(dates, BaH_profit, label='Buy & Hold')\n",
    "\n",
    "plt.title(equity_name + ' (Inception Blocks)' + ' - Profits Over the Years (2007-2017)')\n",
    "plt.xlabel('Year')\n",
    "plt.ylabel('Capital($)')\n",
    "plt.legend()\n",
    "plt.show()"
   ]
  },
  {
   "cell_type": "code",
   "execution_count": null,
   "metadata": {},
   "outputs": [],
   "source": []
  }
 ],
 "metadata": {
  "colab": {
   "name": "Data Generation.ipynb",
   "provenance": []
  },
  "environment": {
   "name": "common-cu101.m58",
   "type": "gcloud",
   "uri": "gcr.io/deeplearning-platform-release/base-cu101:m58"
  },
  "kernelspec": {
   "display_name": "Python 3",
   "language": "python",
   "name": "python3"
  },
  "language_info": {
   "codemirror_mode": {
    "name": "ipython",
    "version": 3
   },
   "file_extension": ".py",
   "mimetype": "text/x-python",
   "name": "python",
   "nbconvert_exporter": "python",
   "pygments_lexer": "ipython3",
   "version": "3.7.8"
  }
 },
 "nbformat": 4,
 "nbformat_minor": 4
}
